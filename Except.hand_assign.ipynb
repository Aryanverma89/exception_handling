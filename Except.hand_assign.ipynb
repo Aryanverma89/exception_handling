{
 "cells": [
  {
   "cell_type": "markdown",
   "id": "bca22d2a-f933-4f6c-8bab-556928b55cc1",
   "metadata": {},
   "source": [
    "Q1. What is an Exception in python? write the difference between Exceptions and Syntax errors."
   ]
  },
  {
   "cell_type": "code",
   "execution_count": 1,
   "id": "dee4640c-9219-47b3-9b44-b48a2eb649fb",
   "metadata": {},
   "outputs": [
    {
     "data": {
      "text/plain": [
       "\"In Python, an exception is an event that disrupts the normal flow of a program's execution. \\nIt typically occurs when the interpreter detects an error during runtime. \\nExceptions occur during the execution of a program.\\nThey are typically caused by factors such as invalid user input, unexpected conditions, or problems with external resources (like file I/O or network operations).\\nExamples of exceptions include TypeError, ValueError, ZeroDivisionError, and FileNotFoundError.\\nWhile Syntax errors, also known as parsing errors, occur during the interpretation of code before it is executed.\\nThey are caused by violations of the Python language syntax rules. For example, missing colons, parentheses, or quotation marks.\""
      ]
     },
     "execution_count": 1,
     "metadata": {},
     "output_type": "execute_result"
    }
   ],
   "source": [
    "\"\"\"In Python, an exception is an event that disrupts the normal flow of a program's execution. \n",
    "It typically occurs when the interpreter detects an error during runtime. \n",
    "Exceptions occur during the execution of a program.\n",
    "They are typically caused by factors such as invalid user input, unexpected conditions, or problems with external resources (like file I/O or network operations).\n",
    "Examples of exceptions include TypeError, ValueError, ZeroDivisionError, and FileNotFoundError.\n",
    "While Syntax errors, also known as parsing errors, occur during the interpretation of code before it is executed.\n",
    "They are caused by violations of the Python language syntax rules. For example, missing colons, parentheses, or quotation marks.\"\"\""
   ]
  },
  {
   "cell_type": "markdown",
   "id": "b9ace179-6b79-412e-bfef-f6d328135fc3",
   "metadata": {},
   "source": [
    "Q2. What happens when an exception is not handled ? Explain with an example."
   ]
  },
  {
   "cell_type": "code",
   "execution_count": 2,
   "id": "b0a28930-4c4c-43d4-a073-dbaf6a1b681f",
   "metadata": {},
   "outputs": [
    {
     "ename": "ZeroDivisionError",
     "evalue": "division by zero",
     "output_type": "error",
     "traceback": [
      "\u001b[0;31m---------------------------------------------------------------------------\u001b[0m",
      "\u001b[0;31mZeroDivisionError\u001b[0m                         Traceback (most recent call last)",
      "Cell \u001b[0;32mIn[2], line 14\u001b[0m\n\u001b[1;32m     11\u001b[0m     \u001b[38;5;28mprint\u001b[39m(\u001b[38;5;124m\"\u001b[39m\u001b[38;5;124mResult:\u001b[39m\u001b[38;5;124m\"\u001b[39m, result)\n\u001b[1;32m     13\u001b[0m \u001b[38;5;28;01mif\u001b[39;00m \u001b[38;5;18m__name__\u001b[39m \u001b[38;5;241m==\u001b[39m \u001b[38;5;124m\"\u001b[39m\u001b[38;5;124m__main__\u001b[39m\u001b[38;5;124m\"\u001b[39m:\n\u001b[0;32m---> 14\u001b[0m     \u001b[43mmain\u001b[49m\u001b[43m(\u001b[49m\u001b[43m)\u001b[49m\n",
      "Cell \u001b[0;32mIn[2], line 10\u001b[0m, in \u001b[0;36mmain\u001b[0;34m()\u001b[0m\n\u001b[1;32m      8\u001b[0m num1 \u001b[38;5;241m=\u001b[39m \u001b[38;5;241m10\u001b[39m\n\u001b[1;32m      9\u001b[0m num2 \u001b[38;5;241m=\u001b[39m \u001b[38;5;241m0\u001b[39m\n\u001b[0;32m---> 10\u001b[0m result \u001b[38;5;241m=\u001b[39m \u001b[43mdivide\u001b[49m\u001b[43m(\u001b[49m\u001b[43mnum1\u001b[49m\u001b[43m,\u001b[49m\u001b[43m \u001b[49m\u001b[43mnum2\u001b[49m\u001b[43m)\u001b[49m\n\u001b[1;32m     11\u001b[0m \u001b[38;5;28mprint\u001b[39m(\u001b[38;5;124m\"\u001b[39m\u001b[38;5;124mResult:\u001b[39m\u001b[38;5;124m\"\u001b[39m, result)\n",
      "Cell \u001b[0;32mIn[2], line 5\u001b[0m, in \u001b[0;36mdivide\u001b[0;34m(a, b)\u001b[0m\n\u001b[1;32m      4\u001b[0m \u001b[38;5;28;01mdef\u001b[39;00m \u001b[38;5;21mdivide\u001b[39m(a, b):\n\u001b[0;32m----> 5\u001b[0m     \u001b[38;5;28;01mreturn\u001b[39;00m \u001b[43ma\u001b[49m\u001b[43m \u001b[49m\u001b[38;5;241;43m/\u001b[39;49m\u001b[43m \u001b[49m\u001b[43mb\u001b[49m\n",
      "\u001b[0;31mZeroDivisionError\u001b[0m: division by zero"
     ]
    }
   ],
   "source": [
    "\"\"\"When an exception is not handled in Python, it propagates up through the call stack until it reaches the main program scope.\n",
    "If it still remains unhandled, the Python interpreter halts the program's execution and displays the exception traceback, which includes information about the type of exception,\n",
    "the line of code where it occurred, and the call stack at the time of the exception \"\"\"\n",
    "def divide(a, b):\n",
    "    return a / b\n",
    "\n",
    "def main():\n",
    "    num1 = 10\n",
    "    num2 = 0\n",
    "    result = divide(num1, num2)\n",
    "    print(\"Result:\", result)\n",
    "\n",
    "if __name__ == \"__main__\":\n",
    "    main()\n",
    "\n",
    "OUTPUT:  ZeroDivisionError: division by zero"
   ]
  },
  {
   "cell_type": "markdown",
   "id": "206c4b1d-a19b-4808-8d7c-fe7e29d90252",
   "metadata": {},
   "source": [
    "Q3. Which python statements are used to catch and handle exceptions ? Explain with an example ."
   ]
  },
  {
   "cell_type": "code",
   "execution_count": 3,
   "id": "7f007a2e-d0fe-4ed0-b6b5-93df067f164a",
   "metadata": {},
   "outputs": [
    {
     "name": "stdout",
     "output_type": "stream",
     "text": [
      "Error: Cannot divide by zero!\n",
      "Executing finally block\n",
      "Result: None\n"
     ]
    }
   ],
   "source": [
    "\"\"\"In Python, the try, except, else, and finally statements are used to catch and handle exceptions.\"\"\"\n",
    "def divide(a, b):\n",
    "    try:\n",
    "        result = a / b\n",
    "    except ZeroDivisionError:\n",
    "        print(\"Error: Cannot divide by zero!\")\n",
    "    else:\n",
    "        print(\"Division successful!\")\n",
    "        return result\n",
    "    finally:\n",
    "        print(\"Executing finally block\")\n",
    "\n",
    "# Example usage\n",
    "num1 = 10\n",
    "num2 = 0\n",
    "\n",
    "result = divide(num1, num2)\n",
    "print(\"Result:\", result)\n"
   ]
  },
  {
   "cell_type": "markdown",
   "id": "a647195e-0792-4a09-b56c-2c51b09970c1",
   "metadata": {},
   "source": [
    "Q4. Explain with an example :\n",
    "    a: try and else \n",
    "    b. finally\n",
    "    c. raise "
   ]
  },
  {
   "cell_type": "code",
   "execution_count": 4,
   "id": "7922a9bb-8c19-40bc-9e6d-e6918eabb7de",
   "metadata": {},
   "outputs": [
    {
     "name": "stdout",
     "output_type": "stream",
     "text": [
      "Division successful!\n",
      "Result: 5.0\n"
     ]
    }
   ],
   "source": [
    "\"\"\"a. try and else:-The try and else blocks are used together to specify code that should run only if no exceptions occur in the try block.\"\"\"\n",
    "def divide(a, b):\n",
    "    try:\n",
    "        result = a / b\n",
    "    except ZeroDivisionError:\n",
    "        print(\"Error: Cannot divide by zero!\")\n",
    "    else:\n",
    "        print(\"Division successful!\")\n",
    "        return result\n",
    "\n",
    "# Example usage\n",
    "num1 = 10\n",
    "num2 = 2\n",
    "\n",
    "result = divide(num1, num2)\n",
    "print(\"Result:\", result)\n"
   ]
  },
  {
   "cell_type": "code",
   "execution_count": 5,
   "id": "7ec7e16d-e8ad-42c0-a33d-42d827186e0a",
   "metadata": {},
   "outputs": [
    {
     "name": "stdout",
     "output_type": "stream",
     "text": [
      "Error: Cannot divide by zero!\n",
      "Executing finally block\n",
      "Result: None\n"
     ]
    }
   ],
   "source": [
    "\"\"\"b. finally:-The finally block is used to specify code that should always be executed, regardless of whether an exception occurs in the try block or not.\"\"\"\n",
    "def divide(a, b):\n",
    "    try:\n",
    "        result = a / b\n",
    "    except ZeroDivisionError:\n",
    "        print(\"Error: Cannot divide by zero!\")\n",
    "    else:\n",
    "        print(\"Division successful!\")\n",
    "        return result\n",
    "    finally:\n",
    "        print(\"Executing finally block\")\n",
    "\n",
    "# Example usage\n",
    "num1 = 10\n",
    "num2 = 0\n",
    "\n",
    "result = divide(num1, num2)\n",
    "print(\"Result:\", result)\n"
   ]
  },
  {
   "cell_type": "code",
   "execution_count": 6,
   "id": "872be24e-3e8b-494d-858b-03e6253e9d30",
   "metadata": {},
   "outputs": [
    {
     "name": "stdout",
     "output_type": "stream",
     "text": [
      "Age cannot be negative\n"
     ]
    }
   ],
   "source": [
    "\"\"\"c. raise:-The raise statement is used to explicitly raise exceptions in Python.\"\"\"\n",
    "def check_age(age):\n",
    "    if age < 0:\n",
    "        raise ValueError(\"Age cannot be negative\")\n",
    "    elif age < 18:\n",
    "        raise ValueError(\"Must be 18 or older\")\n",
    "    else:\n",
    "        print(\"Age is valid\")\n",
    "\n",
    "# Example usage\n",
    "try:\n",
    "    check_age(-5)\n",
    "except ValueError as e:\n",
    "    print(e)\n"
   ]
  },
  {
   "cell_type": "markdown",
   "id": "959ac132-cc46-421c-af13-3faf0b691010",
   "metadata": {},
   "source": [
    "Q5. What are Custom Exceptions in python? What do we need Custom Exceptions? Explain with  an example:"
   ]
  },
  {
   "cell_type": "code",
   "execution_count": 7,
   "id": "a5dafbc4-7a49-4654-94ac-0fed92033410",
   "metadata": {},
   "outputs": [
    {
     "name": "stdout",
     "output_type": "stream",
     "text": [
      "Insufficient funds to withdraw 150. Current balance: 100\n"
     ]
    }
   ],
   "source": [
    "\"\"\"Custom exceptions in Python are user-defined exceptions that inherit from Python's built-in exception classes. They allow developers to create their own exception types tailored to specific error conditions in their applications. Custom exceptions are useful for improving code readability, maintainability, and handling specific error scenarios more effectively.\"\"\"\n",
    "class WithdrawalError(Exception):\n",
    "    \"\"\"Exception raised for errors related to withdrawal operations.\"\"\"\n",
    "\n",
    "    def __init__(self, amount, balance):\n",
    "        self.amount = amount\n",
    "        self.balance = balance\n",
    "        super().__init__(f\"Insufficient funds to withdraw {amount}. Current balance: {balance}\")\n",
    "\n",
    "def withdraw(balance, amount):\n",
    "    if amount > balance:\n",
    "        raise WithdrawalError(amount, balance)\n",
    "    else:\n",
    "        print(\"Withdrawal successful\")\n",
    "        return balance - amount\n",
    "\n",
    "# Example usage\n",
    "try:\n",
    "    account_balance = 100\n",
    "    withdrawal_amount = 150\n",
    "    new_balance = withdraw(account_balance, withdrawal_amount)\n",
    "except WithdrawalError as e:\n",
    "    print(e)\n"
   ]
  },
  {
   "cell_type": "code",
   "execution_count": null,
   "id": "f150fd07-be4f-41fe-a016-c6a27bec1bb2",
   "metadata": {},
   "outputs": [],
   "source": [
    "Q6. Create a custom exception claas. Use this class to handle an exception."
   ]
  }
 ],
 "metadata": {
  "kernelspec": {
   "display_name": "Python 3 (ipykernel)",
   "language": "python",
   "name": "python3"
  },
  "language_info": {
   "codemirror_mode": {
    "name": "ipython",
    "version": 3
   },
   "file_extension": ".py",
   "mimetype": "text/x-python",
   "name": "python",
   "nbconvert_exporter": "python",
   "pygments_lexer": "ipython3",
   "version": "3.10.8"
  }
 },
 "nbformat": 4,
 "nbformat_minor": 5
}
